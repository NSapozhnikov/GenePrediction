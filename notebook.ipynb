{
 "cells": [
  {
   "cell_type": "markdown",
   "metadata": {},
   "source": [
    "HW4 Tardigrades."
   ]
  },
  {
   "cell_type": "markdown",
   "metadata": {},
   "source": [
    "1. Obtaining data \\\n",
    "1.1 Genomic: `wget -o data/Tardi_assebled_genome.fna.gz http://ftp.ncbi.nlm.nih.gov/genomes/all/GCA/001/949/185/GCA_001949185.1_Rvar_4.0/GCA_001949185.1_Rvar_4.0_genomic.fna.gz` \\\n",
    "1.2 AUGUSTUS results: https://drive.google.com/file/d/1hCEywBlqNzTrIpQsZTVuZk1S9qKzqQAq/view?usp=sharing \\\n",
    "1.3 GFF: https://drive.google.com/file/d/12ShwrgLkvJIYQV2p1UlXklmxSOOxyxj4/view?usp=sharing \\\n",
    "1.4 getAnnoFasta.pl script: http://augustus.gobics.de/binaries/scripts/getAnnoFasta.pl \\\n",
    "1.5 Tandem Mass Spectrometry results: https://disk.yandex.ru/d/xJqQMGX77Xueqg \\"
   ]
  },
  {
   "cell_type": "markdown",
   "metadata": {},
   "source": [
    "2. Get number of obtained proteins \\\n",
    "`grep \">\" data/augustus.whole.aa | wc -l`\n",
    "-> 16435 \\\n",
    "2.1 To narrow down the amount of genes we can look for those which take their place in a nucleus, thus having a NLS (Nuclear Localization Signals). Classical NLS (cNLS): This type of signal is recognized by importin α and importin β proteins. The classical NLS is usually a short stretch of basic amino acids, such as lysine or arginine. The consensus sequence for classical NLS is typically (K/R)4-5(K/R)X(K/R)."
   ]
  },
  {
   "cell_type": "markdown",
   "metadata": {},
   "source": [
    "3. Do a local alignment-based search \\\n",
    "3.1 *Option a* \\\n",
    "`conda install -c bioconda blast` \\\n",
    "`makeblastdb -in data/peptides.fa -dbtype prot  -out data/blastp_tardigrade_protein_db` \\\n",
    "`blastp -db data/blastp_tardigrade_protein_db -query data/augustus.whole.aa -outfmt 6 -out data/blastp_tardigrade_filtered_proteins` \\\n",
    "Column names format 6: qseqid sseqid pident length mismatch gapopen qstart qend sstart send evalue bitscore \\\n",
    "3.2 *Option b* \\\n",
    "`conda install -c bioconda diamond` \\\n",
    "`diamond makedb --in data/peptides.fa  --db data/tardigrade_protein_db` \\\n",
    "`diamond blastp -d data/tardigrade_protein_db.dmnd -q data/augustus.whole.aa  -f 6 -o data/diamond_tardigrade_filtered_proteins --very-sensitive` \\\n",
    "Used option b. From TMS created a local database with peptides. Then blasted against fasta file with all proteins."
   ]
  },
  {
   "cell_type": "markdown",
   "metadata": {},
   "source": [
    "4. Localization prediction \\\n",
    "Get fasta's for filtered genes \\\n",
    "for 3a:\n",
    "- filter only unique gene names, get top 5000 of them\n",
    "`awk '!seen[$1]++' data/blastp_tardigrade_filtered_proteins | head -n 5000 data/blastp_tardigrade_filtered_proteins_unique | awk '{print $1}' > data/blastp_tardigrade_filtered_proteins_unique_5000`\n",
    "- get fasta sequences from the original fasta for every unique gene name\n",
    "`awk 'NR==FNR{genes[$1]; next} /^>/{if (substr($1, 2) in genes) print; p=0} p{print} /^>/ && (substr($1, 2) in genes){p=1}' data/blastp_tardigrade_filtered_proteins_unique_5000 data/augustus.whole.aa > data/blastp_augustus.whole_filtered_proteins.aa` \\\n",
    "\n",
    "for 3b:\n",
    "- `awk 'NR==FNR{genes[$1]; next} /^>/{if (substr($1, 2) in genes) print; p=0} p{print} /^>/ && (substr($1, 2) in genes){p=1}' data/diamond_tardigrade_filtered_proteins data/augustus.whole.aa > data/diamond_augustus.whole_filtered_proteins.aa` \\\n",
    "4a. WoLF PSORT  (https://wolfpsort.hgc.jp/) predicts the subcellular localization of proteins. PSORT predicts cellular localization of proteins based on the presence of a signal peptide on their N-terminus. \\\n",
    "Results: \\\n",
    "g4106.t1 details E.R.: 14.5, E.R._golg: 9.5, extr: 7, golg: 3.5, lyso: 3, pero: 2, plas: 1, mito: 1 \\\n",
    "g12510.t1 details plas: 29, cyto: 3 \\\n",
    "(see pdfs) \\\n",
    "4b. TargetP (https://services.healthtech.dtu.dk/service.php?TargetP-2.0) also predicts the subcellular localization of eukaryotic proteins. The location assignment is based on the predicted presence of any of the N-terminal presequences: chloroplast transit peptide (cTP), mitochondrial targeting peptide (mTP) or secretory pathway signal peptide (SP). \\\n",
    "Results: \\\n",
    "(see zip and pdf)"
   ]
  },
  {
   "cell_type": "markdown",
   "metadata": {},
   "source": []
  },
  {
   "cell_type": "markdown",
   "metadata": {},
   "source": []
  },
  {
   "cell_type": "markdown",
   "metadata": {},
   "source": [
    "5. BLAST\n",
    "BLAST (https://blast.ncbi.nlm.nih.gov/Blast.cgi) protein sequences against the “UniProtKB/Swiss-Prot” database.\n"
   ]
  }
 ],
 "metadata": {
  "kernelspec": {
   "display_name": "base",
   "language": "python",
   "name": "python3"
  },
  "language_info": {
   "codemirror_mode": {
    "name": "ipython",
    "version": 3
   },
   "file_extension": ".py",
   "mimetype": "text/x-python",
   "name": "python",
   "nbconvert_exporter": "python",
   "pygments_lexer": "ipython3",
   "version": "3.11.5"
  }
 },
 "nbformat": 4,
 "nbformat_minor": 2
}
